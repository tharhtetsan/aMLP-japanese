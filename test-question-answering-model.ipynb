{
 "cells": [
  {
   "cell_type": "markdown",
   "id": "e7c8f17a",
   "metadata": {},
   "source": [
    "python run-squad.py --restore_from aMLP-SQuAD-base-ja --pred_dataset squad-testdata.json "
   ]
  },
  {
   "cell_type": "code",
   "execution_count": 1,
   "id": "fec7436e",
   "metadata": {},
   "outputs": [],
   "source": [
    "import json\n",
    "import os\n",
    "import sys\n",
    "import numpy as np\n",
    "import time\n",
    "import shutil\n",
    "\n",
    "import tensorflow as tf\n",
    "from tensorflow.keras.models import Model\n",
    "from tensorflow.keras.layers import Input\n",
    "from tensorflow.keras.optimizers import Adam\n"
   ]
  },
  {
   "cell_type": "code",
   "execution_count": 2,
   "id": "e43a65dd",
   "metadata": {},
   "outputs": [
    {
     "data": {
      "text/plain": [
       "\"\\nimport os\\nos.chdir(os.getcwd())\\nos.chdir('..')\\nROOT_DIR = os.path.abspath(os.curdir)\\nsys.path.insert(1,ROOT_DIR) \\n\\n\""
      ]
     },
     "execution_count": 2,
     "metadata": {},
     "output_type": "execute_result"
    }
   ],
   "source": [
    "\"\"\"\n",
    "import os\n",
    "os.chdir(os.getcwd())\n",
    "os.chdir('..')\n",
    "ROOT_DIR = os.path.abspath(os.curdir)\n",
    "sys.path.insert(1,ROOT_DIR) \n",
    "\n",
    "\"\"\"#aMLP-SQuAD-base-ja.pt "
   ]
  },
  {
   "cell_type": "code",
   "execution_count": 12,
   "id": "fc87502d",
   "metadata": {},
   "outputs": [],
   "source": [
    "restore_from = r\"E:\\CloudSource\\CloudSource_share\\tharhtetsan\\testing\\aMLP-SQuAD-base-ja\""
   ]
  },
  {
   "cell_type": "code",
   "execution_count": 13,
   "id": "a160bafc",
   "metadata": {},
   "outputs": [],
   "source": [
    "\n",
    "from modeling import model as build_model\n",
    "from modeling import projection\n",
    "from encoder import get_encoder\n",
    "CHECKPOINT_DIR = 'checkpoint'"
   ]
  },
  {
   "cell_type": "code",
   "execution_count": 14,
   "id": "a06265e8",
   "metadata": {},
   "outputs": [],
   "source": [
    "def read_squad_json(filename, to_val=False):\n",
    "    with open(filename,encoding=\"utf-8\") as f:\n",
    "        squad = json.loads(f.read())\n",
    "    context, question, answer_start, answer_end, question_id, answer = [], [], [], [], [], []\n",
    "    num_quest = 0\n",
    "    for data in squad[\"data\"]:\n",
    "        for p in data[\"paragraphs\"]:\n",
    "            c = p[\"context\"]\n",
    "            for q in p[\"qas\"]:\n",
    "                if \"is_impossible\" not in q or not q[\"is_impossible\"]:\n",
    "                    for a in (q[\"answers\"][:1] if to_val else q[\"answers\"]):\n",
    "                        answer.append(a[\"text\"])\n",
    "                        context.append(c)\n",
    "                        question.append(q[\"question\"])\n",
    "                        if \"id\" in q:\n",
    "                            question_id.append(q[\"id\"])\n",
    "                        else:\n",
    "                            question_id.append(str(num_quest))\n",
    "                        answer_start.append(a[\"answer_start\"])\n",
    "                        answer_end.append(a[\"answer_start\"]+len(a[\"text\"]))\n",
    "                        num_quest += 1\n",
    "                elif not to_val:\n",
    "                    answer.append(\"\")\n",
    "                    context.append(c)\n",
    "                    question.append(q[\"question\"])\n",
    "                    if \"id\" in q:\n",
    "                        question_id.append(q[\"id\"])\n",
    "                    else:\n",
    "                        question_id.append(str(num_quest))\n",
    "                    answer_start.append(-1)\n",
    "                    answer_end.append(-1)\n",
    "                    num_quest += 1\n",
    "    print(f'read {len(context)} contexts from {filename}.')\n",
    "    return context, question, answer_start, answer_end, question_id, answer\n"
   ]
  },
  {
   "cell_type": "code",
   "execution_count": 15,
   "id": "b722361c",
   "metadata": {},
   "outputs": [],
   "source": [
    "def jaccard(str1, str2):\n",
    "    a = set(str1.lower().split())\n",
    "    b = set(str2.lower().split())\n",
    "    c = a.intersection(b)\n",
    "    return float(len(c)) / (len(a) + len(b) - len(c))\n",
    "\n",
    "def jaccard_wd(str1, str2):\n",
    "    a = set(str1)\n",
    "    b = set(str2)\n",
    "    c = a.intersection(b)\n",
    "    return float(len(c)) / (len(a) + len(b) - len(c))\n",
    "\n",
    "def get_best_indexes(logits, n_best_size):\n",
    "    index_and_score = sorted(enumerate(logits), key=lambda x: x[1], reverse=True)\n",
    "    best_indexes = []\n",
    "    for i in range(len(index_and_score)):\n",
    "        if i >= n_best_size:\n",
    "            break\n",
    "        best_indexes.append(index_and_score[i][0])\n",
    "    return best_indexes"
   ]
  },
  {
   "cell_type": "code",
   "execution_count": 16,
   "id": "9309db2f",
   "metadata": {},
   "outputs": [],
   "source": [
    "bpe_path = os.path.join(restore_from, \"vocabulary.txt\")\n",
    "hpm_path = os.path.join(restore_from,\"hparams.json\")"
   ]
  },
  {
   "cell_type": "code",
   "execution_count": 17,
   "id": "cdcdd057",
   "metadata": {},
   "outputs": [],
   "source": [
    "with open(hpm_path) as f:\n",
    "        conf_dict = json.loads(f.read())"
   ]
  },
  {
   "cell_type": "code",
   "execution_count": 18,
   "id": "fb62b5f7",
   "metadata": {},
   "outputs": [],
   "source": [
    "vocab_size = conf_dict[\"num_vocab\"]\n",
    "EOT_TOKEN = vocab_size - 1\n",
    "MASK_TOKEN = vocab_size - 2\n",
    "SEP_TOKEN = vocab_size - 3\n",
    "CLS_TOKEN = vocab_size - 4\n",
    "\n",
    "batch_size = 4 # default\n",
    "\n",
    "\n",
    "max_seq_length = conf_dict[\"num_ctx\"]\n",
    "max_predictions = 1\n",
    "log_dir = \"\"\n",
    "max_answer_length = 50\n",
    "num_best_indexes = 20\n",
    "\n",
    "run_name = \"aMLP-squad-ja\"\n",
    "\n",
    "pred_dataset = \"squad-testdata.json\"\n",
    "dataset = \"squad-testdata.json\""
   ]
  },
  {
   "cell_type": "code",
   "execution_count": 19,
   "id": "95f05e8c",
   "metadata": {},
   "outputs": [],
   "source": [
    "with open(bpe_path,encoding=\"utf-8\") as f:\n",
    "    ww = np.sum([1 if ('##' in l) else 0 for l in f.readlines()]) > 0\n",
    "enc = get_encoder(bpe_path, 'emoji.json', ww)"
   ]
  },
  {
   "cell_type": "code",
   "execution_count": 20,
   "id": "e97e6e57",
   "metadata": {},
   "outputs": [],
   "source": [
    "os.makedirs(os.path.join(CHECKPOINT_DIR,run_name), exist_ok=True)"
   ]
  },
  {
   "cell_type": "code",
   "execution_count": 21,
   "id": "93a463c6",
   "metadata": {},
   "outputs": [
    {
     "name": "stdout",
     "output_type": "stream",
     "text": [
      "Running on 1 replicas\n"
     ]
    }
   ],
   "source": [
    "strategy = tf.distribute.get_strategy()\n",
    "print(f\"Running on {strategy.num_replicas_in_sync} replicas\")"
   ]
  },
  {
   "cell_type": "code",
   "execution_count": 22,
   "id": "5e80af76",
   "metadata": {},
   "outputs": [],
   "source": [
    "class squad_model(tf.keras.Model):\n",
    "    def __init__(self, model, conf_dict):\n",
    "        super(squad_model, self).__init__(name='squad_model')\n",
    "        self.model = model\n",
    "        self.projection = projection(conf_dict[\"num_hidden\"], 2, name='squad_output')\n",
    "    \n",
    "    def call(self, inputs):\n",
    "        input_ids, input_weights = inputs\n",
    "        lm_output, _ = self.model(inputs=[input_ids, input_weights])\n",
    "        logits = self.projection(lm_output)\n",
    "        logits = tf.transpose(logits, [2, 0, 1])\n",
    "        unstacked_logits = tf.unstack(logits, axis=0)\n",
    "        start_logits, end_logits = unstacked_logits[0], unstacked_logits[1]\n",
    "        return [start_logits, end_logits]"
   ]
  },
  {
   "cell_type": "code",
   "execution_count": 23,
   "id": "0ef02bae",
   "metadata": {},
   "outputs": [],
   "source": [
    "def crossentropy(labels, logits):\n",
    "        num_vocabrary = logits.shape.as_list()[-1]\n",
    "        flat_labels = tf.reshape(labels, [-1])\n",
    "        flat_labels = tf.cast(flat_labels, tf.int32)\n",
    "        flat_logits = tf.reshape(logits, [-1, num_vocabrary])\n",
    "        one_hot_labels = tf.one_hot(flat_labels, depth=num_vocabrary, dtype=tf.float32)\n",
    "        log_probs = tf.nn.log_softmax(flat_logits)\n",
    "        loss = -tf.reduce_sum(log_probs * one_hot_labels, axis=[-1])\n",
    "        loss = tf.reduce_mean(loss)\n",
    "        return loss"
   ]
  },
  {
   "cell_type": "code",
   "execution_count": 24,
   "id": "6f45cef1",
   "metadata": {},
   "outputs": [],
   "source": [
    "with strategy.scope():\n",
    "    counter = 1\n",
    "    lossmodel = tf.keras.models.load_model(restore_from, \\\n",
    "                    custom_objects={'crossentropy': crossentropy})"
   ]
  },
  {
   "cell_type": "code",
   "execution_count": 25,
   "id": "83a18697",
   "metadata": {},
   "outputs": [
    {
     "name": "stdout",
     "output_type": "stream",
     "text": [
      "Loading dataset...\n"
     ]
    }
   ],
   "source": [
    "print('Loading dataset...')\n",
    "def encode_json(filename):\n",
    "    result_chunks = []\n",
    "    for context, question, answer_start, answer_end, question_id, answer in zip(*read_squad_json(filename)):\n",
    "        if len(question) > 0 and '？' not in question:\n",
    "            question = question.replace('?', '？')\n",
    "            if '？' not in question:\n",
    "                question = question + '？'\n",
    "        enc_context, ctx_posisions = enc.encode(context, clean=False, position=True)\n",
    "        enc_question = enc.encode(question, clean=False, position=False)\n",
    "        token_start = -1 if answer_start<0 else np.argmax(np.array(ctx_posisions+[1000000]) >= answer_start)\n",
    "        token_end = 0 if answer_end<=0 else np.argmax(np.array(ctx_posisions+[1000000]) >= answer_end)\n",
    "        ctx_offset = 1 + len(enc_question) + 2\n",
    "        tokens = [CLS_TOKEN] + enc_question + [SEP_TOKEN, CLS_TOKEN] + enc_context + [EOT_TOKEN]\n",
    "        tokens_weights = [1.0] * len(tokens)\n",
    "        token_start = min(len(tokens)-2, token_start + ctx_offset)\n",
    "        token_end = max(token_start, token_end + ctx_offset - 1)\n",
    "        while len(tokens) < max_seq_length:\n",
    "            tokens.append(EOT_TOKEN)\n",
    "            tokens_weights.append(0.0)\n",
    "        tokens = tokens[:max_seq_length]\n",
    "        tokens_weights = tokens_weights[:max_seq_length]\n",
    "        if token_start >= max_seq_length:\n",
    "            token_start = ctx_offset-1\n",
    "            token_end = ctx_offset-1\n",
    "        elif token_end >= max_seq_length:\n",
    "            token_end = max_seq_length-1\n",
    "        answer = context[answer_start:answer_end]\n",
    "        result_chunks.append({\"tokens\":tokens,\"tokens_weights\":tokens_weights,\"token_start\":token_start,\"token_end\":token_end,\"question\":question,\n",
    "                              \"ctx_offset\":ctx_offset,\"ctx_posisions\":ctx_posisions,\"context\":context,\"answer\":answer,\"question_id\":question_id})\n",
    "    return result_chunks"
   ]
  },
  {
   "cell_type": "code",
   "execution_count": 26,
   "id": "5a39ed44",
   "metadata": {},
   "outputs": [
    {
     "name": "stdout",
     "output_type": "stream",
     "text": [
      "read 7 contexts from squad-testdata.json.\n"
     ]
    }
   ],
   "source": [
    "global_chunks = encode_json(dataset) #if do_training else None\n",
    "global_chunk_index = 0\n",
    "global_epochs = 0"
   ]
  },
  {
   "cell_type": "code",
   "execution_count": 27,
   "id": "74cfa3bf",
   "metadata": {},
   "outputs": [],
   "source": [
    "def pred(fn, chunks):\n",
    "    data = []\n",
    "    for preds in run_predict(chunks):\n",
    "        answers = []\n",
    "        context = preds[\"context\"]\n",
    "        question = preds[\"question\"]\n",
    "        for pred, pred_pos in zip(preds[\"predictionstrings\"],preds[\"predictionpositions\"]):\n",
    "            if len(pred) > 0:\n",
    "                answers.append({\"text\":pred,\"answer_start\":pred_pos})\n",
    "        qas = {\"id\":preds[\"question_id\"],\"question\":question,\"is_impossible\":preds[\"impossible\"],\"answers\":answers}\n",
    "        data.append({\"paragraphs\":[{\"context\":context,\"qas\":[qas]}]})\n",
    "    with open(fn, \"w\", encoding=\"utf-8\") as wf:\n",
    "        wf.write(json.dumps({\"data\":data}, ensure_ascii=False , indent=2))\n"
   ]
  },
  {
   "cell_type": "code",
   "execution_count": 28,
   "id": "c3d02e05",
   "metadata": {},
   "outputs": [],
   "source": [
    "def run_predict(input_chunks):\n",
    "            tokens,tokens_weights,ctx_offset,ctx_posisions,context,question_id,answer,question = [], [], [], [], [], [], [], []\n",
    "            pp=[]\n",
    "            for chunk in input_chunks:\n",
    "                tokens.append(chunk[\"tokens\"])\n",
    "                tokens_weights.append(chunk[\"tokens_weights\"])\n",
    "                ctx_offset.append(chunk[\"ctx_offset\"])\n",
    "                ctx_posisions.append(chunk[\"ctx_posisions\"])\n",
    "                context.append(chunk[\"context\"])\n",
    "                question_id.append(chunk[\"question_id\"])\n",
    "                answer.append(chunk[\"answer\"])\n",
    "                question.append(chunk[\"question\"])\n",
    "                pp.append(\"true_y: %d %d\"%(chunk[\"token_start\"],chunk[\"token_end\"]))\n",
    "            tokens = np.array(tokens, dtype=np.int32)\n",
    "            tokens_weights = np.array(tokens_weights, dtype=np.float32)\n",
    "            pred = lossmodel.predict([tokens,tokens_weights], batch_size=batch_size)\n",
    "            result = []\n",
    "            pi = 0\n",
    "            for starts, ends, off, pos, ctx, qid, ans, qes in zip(pred[0], pred[1], ctx_offset, ctx_posisions, context, question_id, answer, question):\n",
    "                selected = []\n",
    "                impossible = False\n",
    "                p_starts = get_best_indexes(starts, num_best_indexes)\n",
    "                p_ends = get_best_indexes(ends, num_best_indexes)\n",
    "                pi += 1\n",
    "                for start_index in p_starts:\n",
    "                    for end_index in p_ends:\n",
    "                        if start_index==off-1 and end_index==off-1 and len(selected)==0:\n",
    "                            impossible = True\n",
    "                        if start_index-off >= len(pos) or start_index<off:\n",
    "                            continue\n",
    "                        if end_index-off >= len(pos) or end_index<off:\n",
    "                            continue\n",
    "                        if end_index < start_index:\n",
    "                            continue\n",
    "                        length = end_index - start_index + 1\n",
    "                        if length > max_answer_length:\n",
    "                            continue\n",
    "                        selected.append((start_index, end_index))\n",
    "                predictionstrings = []\n",
    "                predictionpositions = []\n",
    "                for p_start,p_end in selected:\n",
    "                    start_token = p_start-off\n",
    "                    end_token = p_end-off\n",
    "                    start_pos = pos[start_token]\n",
    "                    end_pos = pos[end_token+1] if end_token+1<len(pos) else len(ctx)\n",
    "                    predictionstrings.append(ctx[start_pos:end_pos])\n",
    "                    predictionpositions.append(start_pos)\n",
    "                result.append({\"predictionstrings\":predictionstrings, \"predictionpositions\":predictionpositions,\n",
    "                               \"impossible\":impossible, \"answer\":ans, \"question_id\":qid, \"context\":ctx, \"question\":qes})\n",
    "            return result"
   ]
  },
  {
   "cell_type": "code",
   "execution_count": 29,
   "id": "7965f920",
   "metadata": {},
   "outputs": [
    {
     "name": "stdout",
     "output_type": "stream",
     "text": [
      "read 7 contexts from squad-testdata.json.\n"
     ]
    }
   ],
   "source": [
    "do_prediction = len(pred_dataset) > 0 and os.path.isfile(pred_dataset)\n",
    "prediction_chunks = encode_json(pred_dataset) if do_prediction else None"
   ]
  },
  {
   "cell_type": "code",
   "execution_count": 30,
   "id": "5466ba7e",
   "metadata": {},
   "outputs": [
    {
     "name": "stdout",
     "output_type": "stream",
     "text": [
      "read 1041 contexts from squad-predicted.json.\n"
     ]
    }
   ],
   "source": [
    "pred('squad-predicted.json', prediction_chunks)\n",
    "result = encode_json('squad-predicted.json')\n",
    "question_id = np.array([res[\"question_id\"] for res in result])\n",
    "question = [res[\"question\"] for res in result]\n",
    "answer = [res[\"answer\"] for res in result]"
   ]
  },
  {
   "cell_type": "code",
   "execution_count": 31,
   "id": "fbdfa04b",
   "metadata": {},
   "outputs": [
    {
     "name": "stdout",
     "output_type": "stream",
     "text": [
      "Question\tAnswer\n",
      "ロッキード・マーティン社とボーイング社が共同開発したステルス戦闘機は？\tF-22戦闘機\n",
      "F-22戦闘機の愛称は？\t猛禽類の意味のラプター\n",
      "F-22戦闘機一機あたりの価格は？\t1億5千万ドル\n",
      "F-22戦闘機の航続距離は？\t3200km\n",
      "F-22戦闘機の巡航速度は？\tマッハ1.82\n",
      "F-22の生産数が削減された理由は？\t調達コスト\n",
      "\tロッキード・マーティン社とボーイング社が共同開発\n"
     ]
    }
   ],
   "source": [
    "index = np.arange(len(result))\n",
    "\n",
    "print('Question\\tAnswer')\n",
    "for qid in np.unique(question_id):\n",
    "    i = sorted(index[np.where(question_id == qid)])[0]\n",
    "\n",
    "    print(question[i]+'\\t'+answer[i])"
   ]
  },
  {
   "cell_type": "code",
   "execution_count": null,
   "id": "10959ee3",
   "metadata": {},
   "outputs": [],
   "source": []
  },
  {
   "cell_type": "code",
   "execution_count": null,
   "id": "50c7492d",
   "metadata": {},
   "outputs": [],
   "source": []
  },
  {
   "cell_type": "code",
   "execution_count": null,
   "id": "3a6be605",
   "metadata": {},
   "outputs": [],
   "source": []
  }
 ],
 "metadata": {
  "interpreter": {
   "hash": "b46ff7e5b8b7911cfa9955e23e477c53e63d207f4b9ab3253a6a5ac7336ecbe5"
  },
  "kernelspec": {
   "display_name": "Python 3 (ipykernel)",
   "language": "python",
   "name": "python3"
  },
  "language_info": {
   "codemirror_mode": {
    "name": "ipython",
    "version": 3
   },
   "file_extension": ".py",
   "mimetype": "text/x-python",
   "name": "python",
   "nbconvert_exporter": "python",
   "pygments_lexer": "ipython3",
   "version": "3.8.13"
  }
 },
 "nbformat": 4,
 "nbformat_minor": 5
}
